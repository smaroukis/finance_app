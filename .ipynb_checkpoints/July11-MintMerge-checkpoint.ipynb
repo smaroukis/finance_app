{
 "cells": [
  {
   "cell_type": "markdown",
   "metadata": {},
   "source": [
    "### Basics\n",
    "Looping through rows in a df: df.iterrows(), df.iteritems, "
   ]
  },
  {
   "cell_type": "code",
   "execution_count": 8,
   "metadata": {
    "collapsed": true
   },
   "outputs": [],
   "source": [
    "import os, io\n",
    "import openpyxl\n",
    "import pandas as pd\n",
    "import numpy as np\n",
    "import datetime"
   ]
  },
  {
   "cell_type": "code",
   "execution_count": 19,
   "metadata": {
    "collapsed": true
   },
   "outputs": [],
   "source": [
    "# Get Files\n",
    "expense_path = os.path.normpath('C:/Users/sqmx/Downloads/2016_expenses.xlsx')\n",
    "datadf = pd.read_csv(os.path.normpath('C:/Users/sqmx/Downloads/transactions(1).csv'))\n",
    "df = pd.read_excel(expense_path)"
   ]
  },
  {
   "cell_type": "code",
   "execution_count": 3,
   "metadata": {
    "collapsed": true
   },
   "outputs": [],
   "source": [
    "# Only need the first 50 transactions\n",
    "datadf = datadf[0:51]\n",
    "ogdf = df[0:51]\n",
    "\n",
    "# Diffs two dataframes as df1 | df2\n",
    "#def report_diff(x):\n",
    "#    return x[0] if x[0] == x[1] else '{} | {}'.format(*x)\n",
    "#mypanel = pd.Panel(dict(datadf=datadf, ogdf=ogdf))\n",
    "#print mypanel.apply(report_diff, axis=0)\n",
    "\n",
    "# Return indexes of new df (data) matching old df (ogdf), Find contiguous indices, (like 5 in a row), find this row in old df, discard rest in new, discard top of old, concat\n",
    "\n",
    "count = 0;\n",
    "indices = []\n",
    "for index_data, row_data in datadf.iterrows():\n",
    "    for index_og, row_og in ogdf.iterrows():\n",
    "        # if Descr & Amt match, add one to counter\n",
    "        if (row_og[1] == row_data[1] and row_og[2] == row_data[2]):\n",
    "            count+=1\n",
    "    if count == 0:\n",
    "        # if og[1]&[2] don't match print index_data, row_data[0], row_data[1], row_data[3]\n",
    "        indices.append(index_data)\n",
    "        \n",
    "    count = 0\n",
    "    "
   ]
  },
  {
   "cell_type": "code",
   "execution_count": 4,
   "metadata": {
    "collapsed": false
   },
   "outputs": [
    {
     "data": {
      "text/plain": [
       "[0, 1, 4, 5, 6, 8, 9, 10, 11, 12, 13, 17]"
      ]
     },
     "execution_count": 4,
     "metadata": {},
     "output_type": "execute_result"
    }
   ],
   "source": [
    "indices"
   ]
  },
  {
   "cell_type": "code",
   "execution_count": 5,
   "metadata": {
    "collapsed": false
   },
   "outputs": [],
   "source": [
    "newdf = datadf.iloc[indices].sort_values('Date', ascending=False)"
   ]
  },
  {
   "cell_type": "code",
   "execution_count": 6,
   "metadata": {
    "collapsed": false
   },
   "outputs": [],
   "source": [
    "output = newdf.append(df, ignore_index = True)\n",
    "# But really we just want to insert and append inside the excel file so as not to break the \n",
    "# pivot table link"
   ]
  },
  {
   "cell_type": "code",
   "execution_count": null,
   "metadata": {
    "collapsed": true
   },
   "outputs": [],
   "source": [
    "date = datetime.datetime.today().day\n",
    "month = datetime.datetime.today().month\n",
    "newsheetname = 'data-' + str(month)  + '-' + str(date)"
   ]
  },
  {
   "cell_type": "code",
   "execution_count": null,
   "metadata": {
    "collapsed": true
   },
   "outputs": [],
   "source": [
    "os.chdir('C:Users/sqmx/Downloads') # Depricatd"
   ]
  },
  {
   "cell_type": "code",
   "execution_count": 32,
   "metadata": {
    "collapsed": false
   },
   "outputs": [],
   "source": [
    "newdf.to_csv(newsheetname + '.csv', index=False)"
   ]
  },
  {
   "cell_type": "code",
   "execution_count": 33,
   "metadata": {
    "collapsed": false
   },
   "outputs": [],
   "source": [
    "# Workaround to add sheet https://github.com/pydata/pandas/issues/3441 REMOVES PIVOT TABLES\n",
    "#book = openpyxl.load_workbook(expense_path)\n",
    "#writer = pd.ExcelWriter(expense_path, engine='openpyxl')\n",
    "#writer.book = book\n",
    "#writer.sheets = dict((ws.title, ws) for ws in book.worksheets)\n",
    "#newdf.to_excel(writer, newsheetname, index = False)\n",
    "#writer.save()"
   ]
  },
  {
   "cell_type": "code",
   "execution_count": null,
   "metadata": {
    "collapsed": true
   },
   "outputs": [],
   "source": []
  }
 ],
 "metadata": {
  "kernelspec": {
   "display_name": "Python 2",
   "language": "python",
   "name": "python2"
  },
  "language_info": {
   "codemirror_mode": {
    "name": "ipython",
    "version": 2
   },
   "file_extension": ".py",
   "mimetype": "text/x-python",
   "name": "python",
   "nbconvert_exporter": "python",
   "pygments_lexer": "ipython2",
   "version": "2.7.11"
  }
 },
 "nbformat": 4,
 "nbformat_minor": 0
}
