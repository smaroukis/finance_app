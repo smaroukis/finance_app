{
 "cells": [
  {
   "cell_type": "code",
   "execution_count": 75,
   "metadata": {
    "collapsed": true
   },
   "outputs": [],
   "source": [
    "import pandas as pd\n",
    "import os\n",
    "import datetime\n",
    "from config import *"
   ]
  },
  {
   "cell_type": "code",
   "execution_count": 6,
   "metadata": {
    "collapsed": false
   },
   "outputs": [],
   "source": [
    "%%bash\n",
    "rm /home/spencer/Downloads/transactions.csv /home/spencer/Downloads/transactions\\ \\(1\\).csv"
   ]
  },
  {
   "cell_type": "code",
   "execution_count": 53,
   "metadata": {
    "collapsed": false
   },
   "outputs": [],
   "source": [
    "df = pd.read_csv('/home/spencer/Downloads/transactions.csv', parse_dates=['Date'], index_col = 'Date')\n",
    "df2 = df.truncate(after = '09/02/2016')"
   ]
  },
  {
   "cell_type": "code",
   "execution_count": 104,
   "metadata": {
    "collapsed": false
   },
   "outputs": [],
   "source": [
    "# Defining Groups\n",
    "\n",
    "\n",
    "food = ['Restaurants','Fast Food','Groceries','Food & Dining']\n",
    "coffee = ['Coffee Shops']\n",
    "transport = ['Public Transportation','Gas & Fuel', 'Rental Car & Taxi','Auto & Transport','Parking']\n",
    "travel = ['Travel','Coach Bus','Air Travel','Hotel']\n",
    "drinks = ['Alcohol & Bars']\n",
    "sport = ['Sports','Sporting Goods','Hobbies']\n",
    "shopping = ['Electronics & Software','Music','Books','Clothing','Books & Supplies','Gift','Office Supplies','Mobile Phone'] # should it be a set?\n",
    "entertainment = ['Event Tickets','Entertainment','Amusement','Arts']\n",
    "fees = ['ATM Fee','Finance Charge','Fees & Charges','Bank Fee','State Tax','Federal Tax','Service Fee']\n",
    "misc = ['Printing','Hair','Uncategorized','Business Services','Transfer for Cash Spending','Doctor','Eyecare','Misc Expenses']\n",
    "home = ['Home','Utilities','Mortgage & Rent','Rent', 'Home Improvement']\n",
    "edu = ['Education','Tuition']\n",
    "\n",
    "llexpenses = [food, coffee, transport, travel, drinks, sport, shopping, entertainment, fees, misc, home, edu]\n",
    "names = ['food','coffee','transport','travel','drinks','sport','shopping','entertainment','fees','misc', 'home', 'edu']\n",
    "\n",
    "allcats = food+coffee+transport+travel+drinks+sport + shopping+ entertainment+fees+misc+home+edu\n",
    "expenses = food+coffee+transport+travel+drinks+sport + shopping+ entertainment+fees+misc"
   ]
  },
  {
   "cell_type": "code",
   "execution_count": 105,
   "metadata": {
    "collapsed": false
   },
   "outputs": [],
   "source": [
    "# Everything in All Cats\n",
    "df = df.loc[df.Category.isin(expenses)]\n",
    "df2 = df2.loc[df2.Category.isin(expenses)]"
   ]
  },
  {
   "cell_type": "code",
   "execution_count": 106,
   "metadata": {
    "collapsed": false
   },
   "outputs": [],
   "source": [
    "w1 = df['9/05/16':'9/11/16']\n",
    "w2 = df['9/12/16':'9/18/16']\n",
    "w3 = df['9/19/16':'9/25/16']"
   ]
  },
  {
   "cell_type": "code",
   "execution_count": 56,
   "metadata": {
    "collapsed": true
   },
   "outputs": [
    {
     "data": {
      "text/html": [
       "<div>\n",
       "<table border=\"1\" class=\"dataframe\">\n",
       "  <thead>\n",
       "    <tr style=\"text-align: right;\">\n",
       "      <th></th>\n",
       "      <th>Description</th>\n",
       "      <th>Original Description</th>\n",
       "      <th>Amount</th>\n",
       "      <th>Transaction Type</th>\n",
       "      <th>Category</th>\n",
       "      <th>Account Name</th>\n",
       "      <th>Labels</th>\n",
       "      <th>Notes</th>\n",
       "    </tr>\n",
       "    <tr>\n",
       "      <th>Date</th>\n",
       "      <th></th>\n",
       "      <th></th>\n",
       "      <th></th>\n",
       "      <th></th>\n",
       "      <th></th>\n",
       "      <th></th>\n",
       "      <th></th>\n",
       "      <th></th>\n",
       "    </tr>\n",
       "  </thead>\n",
       "  <tbody>\n",
       "    <tr>\n",
       "      <th>2016-09-10</th>\n",
       "      <td>Chane Music Ci</td>\n",
       "      <td>CHANE MUSIC AND CI800-992-7252, FL #0000</td>\n",
       "      <td>124.25</td>\n",
       "      <td>debit</td>\n",
       "      <td>Music</td>\n",
       "      <td>Investor Checking</td>\n",
       "      <td>NaN</td>\n",
       "      <td>NaN</td>\n",
       "    </tr>\n",
       "    <tr>\n",
       "      <th>2016-09-08</th>\n",
       "      <td>Planet Rock</td>\n",
       "      <td>PLANET ROCK ANN ARBOR, MI #0000001</td>\n",
       "      <td>243.00</td>\n",
       "      <td>debit</td>\n",
       "      <td>Amusement</td>\n",
       "      <td>Investor Checking</td>\n",
       "      <td>NaN</td>\n",
       "      <td>NaN</td>\n",
       "    </tr>\n",
       "    <tr>\n",
       "      <th>2016-09-02</th>\n",
       "      <td>Meijer</td>\n",
       "      <td>MEIJER INC 064 3145 SAL ANN ARBOR</td>\n",
       "      <td>162.16</td>\n",
       "      <td>debit</td>\n",
       "      <td>Groceries</td>\n",
       "      <td>Investor Checking</td>\n",
       "      <td>NaN</td>\n",
       "      <td>NaN</td>\n",
       "    </tr>\n",
       "  </tbody>\n",
       "</table>\n",
       "</div>"
      ],
      "text/plain": [
       "               Description                      Original Description  Amount  \\\n",
       "Date                                                                           \n",
       "2016-09-10  Chane Music Ci  CHANE MUSIC AND CI800-992-7252, FL #0000  124.25   \n",
       "2016-09-08     Planet Rock        PLANET ROCK ANN ARBOR, MI #0000001  243.00   \n",
       "2016-09-02          Meijer         MEIJER INC 064 3145 SAL ANN ARBOR  162.16   \n",
       "\n",
       "           Transaction Type   Category       Account Name Labels  Notes  \n",
       "Date                                                                     \n",
       "2016-09-10            debit      Music  Investor Checking    NaN    NaN  \n",
       "2016-09-08            debit  Amusement  Investor Checking    NaN    NaN  \n",
       "2016-09-02            debit  Groceries  Investor Checking    NaN    NaN  "
      ]
     },
     "execution_count": 56,
     "metadata": {},
     "output_type": "execute_result"
    }
   ],
   "source": []
  },
  {
   "cell_type": "code",
   "execution_count": 52,
   "metadata": {
    "collapsed": true
   },
   "outputs": [
    {
     "data": {
      "text/html": [
       "<div>\n",
       "<table border=\"1\" class=\"dataframe\">\n",
       "  <thead>\n",
       "    <tr style=\"text-align: right;\">\n",
       "      <th></th>\n",
       "      <th>Description</th>\n",
       "      <th>Original Description</th>\n",
       "      <th>Amount</th>\n",
       "      <th>Transaction Type</th>\n",
       "      <th>Category</th>\n",
       "      <th>Account Name</th>\n",
       "      <th>Labels</th>\n",
       "      <th>Notes</th>\n",
       "    </tr>\n",
       "    <tr>\n",
       "      <th>Date</th>\n",
       "      <th></th>\n",
       "      <th></th>\n",
       "      <th></th>\n",
       "      <th></th>\n",
       "      <th></th>\n",
       "      <th></th>\n",
       "      <th></th>\n",
       "      <th></th>\n",
       "    </tr>\n",
       "  </thead>\n",
       "  <tbody>\n",
       "    <tr>\n",
       "      <th>2016-09-10</th>\n",
       "      <td>Chane Music Ci</td>\n",
       "      <td>CHANE MUSIC AND CI800-992-7252, FL #0000</td>\n",
       "      <td>124.25</td>\n",
       "      <td>debit</td>\n",
       "      <td>Music</td>\n",
       "      <td>Investor Checking</td>\n",
       "      <td>NaN</td>\n",
       "      <td>NaN</td>\n",
       "    </tr>\n",
       "  </tbody>\n",
       "</table>\n",
       "</div>"
      ],
      "text/plain": [
       "               Description                      Original Description  Amount  \\\n",
       "Date                                                                           \n",
       "2016-09-10  Chane Music Ci  CHANE MUSIC AND CI800-992-7252, FL #0000  124.25   \n",
       "\n",
       "           Transaction Type Category       Account Name Labels  Notes  \n",
       "Date                                                                   \n",
       "2016-09-10            debit    Music  Investor Checking    NaN    NaN  "
      ]
     },
     "execution_count": 52,
     "metadata": {},
     "output_type": "execute_result"
    }
   ],
   "source": [
    "# Clean the data:\n",
    "# Inspect large expenses, drop some\n",
    "w1.loc[w1.Amount > 100].drop(w1.loc[w1.Amount > 100].index[[1]])\n",
    "df2.loc[df2.Amount>100]"
   ]
  },
  {
   "cell_type": "code",
   "execution_count": 107,
   "metadata": {
    "collapsed": false
   },
   "outputs": [],
   "source": [
    "sumry = pd.DataFrame(columns = ['Wk1','Wk2','Wk3'], index = names)"
   ]
  },
  {
   "cell_type": "code",
   "execution_count": 108,
   "metadata": {
    "collapsed": false
   },
   "outputs": [
    {
     "data": {
      "text/html": [
       "<div>\n",
       "<table border=\"1\" class=\"dataframe\">\n",
       "  <thead>\n",
       "    <tr style=\"text-align: right;\">\n",
       "      <th></th>\n",
       "      <th>Wk1</th>\n",
       "      <th>Wk2</th>\n",
       "      <th>Wk3</th>\n",
       "    </tr>\n",
       "  </thead>\n",
       "  <tbody>\n",
       "    <tr>\n",
       "      <th>food</th>\n",
       "      <td>NaN</td>\n",
       "      <td>NaN</td>\n",
       "      <td>NaN</td>\n",
       "    </tr>\n",
       "    <tr>\n",
       "      <th>coffee</th>\n",
       "      <td>NaN</td>\n",
       "      <td>NaN</td>\n",
       "      <td>NaN</td>\n",
       "    </tr>\n",
       "    <tr>\n",
       "      <th>transport</th>\n",
       "      <td>NaN</td>\n",
       "      <td>NaN</td>\n",
       "      <td>NaN</td>\n",
       "    </tr>\n",
       "    <tr>\n",
       "      <th>travel</th>\n",
       "      <td>NaN</td>\n",
       "      <td>NaN</td>\n",
       "      <td>NaN</td>\n",
       "    </tr>\n",
       "    <tr>\n",
       "      <th>drinks</th>\n",
       "      <td>NaN</td>\n",
       "      <td>NaN</td>\n",
       "      <td>NaN</td>\n",
       "    </tr>\n",
       "    <tr>\n",
       "      <th>sport</th>\n",
       "      <td>NaN</td>\n",
       "      <td>NaN</td>\n",
       "      <td>NaN</td>\n",
       "    </tr>\n",
       "    <tr>\n",
       "      <th>shopping</th>\n",
       "      <td>NaN</td>\n",
       "      <td>NaN</td>\n",
       "      <td>NaN</td>\n",
       "    </tr>\n",
       "    <tr>\n",
       "      <th>entertainment</th>\n",
       "      <td>NaN</td>\n",
       "      <td>NaN</td>\n",
       "      <td>NaN</td>\n",
       "    </tr>\n",
       "    <tr>\n",
       "      <th>fees</th>\n",
       "      <td>NaN</td>\n",
       "      <td>NaN</td>\n",
       "      <td>NaN</td>\n",
       "    </tr>\n",
       "    <tr>\n",
       "      <th>misc</th>\n",
       "      <td>NaN</td>\n",
       "      <td>NaN</td>\n",
       "      <td>NaN</td>\n",
       "    </tr>\n",
       "    <tr>\n",
       "      <th>home</th>\n",
       "      <td>NaN</td>\n",
       "      <td>NaN</td>\n",
       "      <td>NaN</td>\n",
       "    </tr>\n",
       "    <tr>\n",
       "      <th>edu</th>\n",
       "      <td>NaN</td>\n",
       "      <td>NaN</td>\n",
       "      <td>NaN</td>\n",
       "    </tr>\n",
       "  </tbody>\n",
       "</table>\n",
       "</div>"
      ],
      "text/plain": [
       "               Wk1  Wk2  Wk3\n",
       "food           NaN  NaN  NaN\n",
       "coffee         NaN  NaN  NaN\n",
       "transport      NaN  NaN  NaN\n",
       "travel         NaN  NaN  NaN\n",
       "drinks         NaN  NaN  NaN\n",
       "sport          NaN  NaN  NaN\n",
       "shopping       NaN  NaN  NaN\n",
       "entertainment  NaN  NaN  NaN\n",
       "fees           NaN  NaN  NaN\n",
       "misc           NaN  NaN  NaN\n",
       "home           NaN  NaN  NaN\n",
       "edu            NaN  NaN  NaN"
      ]
     },
     "execution_count": 108,
     "metadata": {},
     "output_type": "execute_result"
    }
   ],
   "source": [
    "sumry"
   ]
  },
  {
   "cell_type": "code",
   "execution_count": 109,
   "metadata": {
    "collapsed": false
   },
   "outputs": [],
   "source": [
    "wk1_sumry = [w1.loc[w1.Category.isin(i)].Amount.sum() for i in llexpenses]"
   ]
  },
  {
   "cell_type": "code",
   "execution_count": 110,
   "metadata": {
    "collapsed": false
   },
   "outputs": [],
   "source": [
    "wk2_sumry = [w2.loc[w2.Category.isin(i)].Amount.sum() for i in llexpenses]"
   ]
  },
  {
   "cell_type": "code",
   "execution_count": 111,
   "metadata": {
    "collapsed": false
   },
   "outputs": [],
   "source": [
    "wk3_sumry = [w3.loc[w3.Category.isin(i)].Amount.sum() for i in llexpenses]"
   ]
  },
  {
   "cell_type": "code",
   "execution_count": 112,
   "metadata": {
    "collapsed": false
   },
   "outputs": [
    {
     "data": {
      "text/plain": [
       "[26.59, 10.05, 124.0, 0, 0, 50.0, 132.72, 243.0, 0, 0, 0, 0]"
      ]
     },
     "execution_count": 112,
     "metadata": {},
     "output_type": "execute_result"
    }
   ],
   "source": [
    "wk1_sumry"
   ]
  },
  {
   "cell_type": "code",
   "execution_count": 113,
   "metadata": {
    "collapsed": false
   },
   "outputs": [
    {
     "data": {
      "text/html": [
       "<div>\n",
       "<table border=\"1\" class=\"dataframe\">\n",
       "  <thead>\n",
       "    <tr style=\"text-align: right;\">\n",
       "      <th></th>\n",
       "      <th>Wk1</th>\n",
       "      <th>Wk2</th>\n",
       "      <th>Wk3</th>\n",
       "    </tr>\n",
       "  </thead>\n",
       "  <tbody>\n",
       "    <tr>\n",
       "      <th>food</th>\n",
       "      <td>26.59</td>\n",
       "      <td>30.23</td>\n",
       "      <td>26.40</td>\n",
       "    </tr>\n",
       "    <tr>\n",
       "      <th>coffee</th>\n",
       "      <td>10.05</td>\n",
       "      <td>21.75</td>\n",
       "      <td>18.15</td>\n",
       "    </tr>\n",
       "    <tr>\n",
       "      <th>transport</th>\n",
       "      <td>124.00</td>\n",
       "      <td>0.00</td>\n",
       "      <td>0.00</td>\n",
       "    </tr>\n",
       "    <tr>\n",
       "      <th>travel</th>\n",
       "      <td>0.00</td>\n",
       "      <td>3.45</td>\n",
       "      <td>0.00</td>\n",
       "    </tr>\n",
       "    <tr>\n",
       "      <th>drinks</th>\n",
       "      <td>0.00</td>\n",
       "      <td>6.89</td>\n",
       "      <td>0.00</td>\n",
       "    </tr>\n",
       "    <tr>\n",
       "      <th>sport</th>\n",
       "      <td>50.00</td>\n",
       "      <td>69.99</td>\n",
       "      <td>102.73</td>\n",
       "    </tr>\n",
       "    <tr>\n",
       "      <th>shopping</th>\n",
       "      <td>132.72</td>\n",
       "      <td>0.99</td>\n",
       "      <td>19.99</td>\n",
       "    </tr>\n",
       "    <tr>\n",
       "      <th>entertainment</th>\n",
       "      <td>243.00</td>\n",
       "      <td>3.25</td>\n",
       "      <td>0.00</td>\n",
       "    </tr>\n",
       "    <tr>\n",
       "      <th>fees</th>\n",
       "      <td>0.00</td>\n",
       "      <td>2.95</td>\n",
       "      <td>0.00</td>\n",
       "    </tr>\n",
       "    <tr>\n",
       "      <th>misc</th>\n",
       "      <td>0.00</td>\n",
       "      <td>0.00</td>\n",
       "      <td>0.00</td>\n",
       "    </tr>\n",
       "    <tr>\n",
       "      <th>home</th>\n",
       "      <td>0.00</td>\n",
       "      <td>0.00</td>\n",
       "      <td>0.00</td>\n",
       "    </tr>\n",
       "    <tr>\n",
       "      <th>edu</th>\n",
       "      <td>0.00</td>\n",
       "      <td>0.00</td>\n",
       "      <td>0.00</td>\n",
       "    </tr>\n",
       "  </tbody>\n",
       "</table>\n",
       "</div>"
      ],
      "text/plain": [
       "                  Wk1    Wk2     Wk3\n",
       "food            26.59  30.23   26.40\n",
       "coffee          10.05  21.75   18.15\n",
       "transport      124.00   0.00    0.00\n",
       "travel           0.00   3.45    0.00\n",
       "drinks           0.00   6.89    0.00\n",
       "sport           50.00  69.99  102.73\n",
       "shopping       132.72   0.99   19.99\n",
       "entertainment  243.00   3.25    0.00\n",
       "fees             0.00   2.95    0.00\n",
       "misc             0.00   0.00    0.00\n",
       "home             0.00   0.00    0.00\n",
       "edu              0.00   0.00    0.00"
      ]
     },
     "execution_count": 113,
     "metadata": {},
     "output_type": "execute_result"
    }
   ],
   "source": [
    "# Create df\n",
    "sumry.Wk1 = wk1_sumry; sumry.Wk2 = wk2_sumry; sumry.Wk3 = wk3_sumry; sumry"
   ]
  },
  {
   "cell_type": "code",
   "execution_count": null,
   "metadata": {
    "collapsed": true
   },
   "outputs": [],
   "source": []
  }
 ],
 "metadata": {
  "kernelspec": {
   "display_name": "Python [Root]",
   "language": "python",
   "name": "Python [Root]"
  },
  "language_info": {
   "codemirror_mode": {
    "name": "ipython",
    "version": 2
   },
   "file_extension": ".py",
   "mimetype": "text/x-python",
   "name": "python",
   "nbconvert_exporter": "python",
   "pygments_lexer": "ipython2",
   "version": "2.7.12"
  }
 },
 "nbformat": 4,
 "nbformat_minor": 0
}
