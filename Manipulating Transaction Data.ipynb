{
 "cells": [
  {
   "cell_type": "code",
   "execution_count": 4,
   "metadata": {
    "collapsed": false
   },
   "outputs": [
    {
     "data": {
      "text/plain": [
       "'/Users/Spencer/Box Sync/Projects/most-recent/finance_app'"
      ]
     },
     "execution_count": 4,
     "metadata": {},
     "output_type": "execute_result"
    }
   ],
   "source": [
    "os.getcwd()"
   ]
  },
  {
   "cell_type": "code",
   "execution_count": 5,
   "metadata": {
    "collapsed": false
   },
   "outputs": [
    {
     "name": "stderr",
     "output_type": "stream",
     "text": [
      "/Users/Spencer/Distributions_et_al/anaconda/envs/py35/lib/python3.5/site-packages/plaid/client.py:155: UserWarning: \n",
      "                Tartan is not intended for production usage.\n",
      "                Swap out url for https://api.plaid.com\n",
      "                via Client.config before switching to production\n",
      "            \n",
      "  ''')\n"
     ]
    }
   ],
   "source": [
    "import os\n",
    "import plaid_config\n",
    "import pandas as pd\n",
    "from pandas.io.json import json_normalize\n"
   ]
  },
  {
   "cell_type": "code",
   "execution_count": 9,
   "metadata": {
    "collapsed": false
   },
   "outputs": [
    {
     "name": "stderr",
     "output_type": "stream",
     "text": [
      "/Users/Spencer/Distributions_et_al/anaconda/envs/py35/lib/python3.5/site-packages/plaid/client.py:155: UserWarning: \n",
      "                Tartan is not intended for production usage.\n",
      "                Swap out url for https://api.plaid.com\n",
      "                via Client.config before switching to production\n",
      "            \n",
      "  ''')\n"
     ]
    }
   ],
   "source": [
    "trans = plaid_config.get_plaid_transactions()"
   ]
  },
  {
   "cell_type": "code",
   "execution_count": 30,
   "metadata": {
    "collapsed": false
   },
   "outputs": [
    {
     "data": {
      "text/plain": [
       "{'access_token': 'test_ins_100088',\n",
       " 'accounts': [{'_id': 'QPO8Jo8vdDHMepg41PBwckXm4KdK1yUdmXOwK',\n",
       "   '_item': 'KdDjmojBERUKx3JkDd9RuxA5EvejA4SENO4AA',\n",
       "   '_user': 'eJXpMzpR65FP4RYno6rzuA7OZjd9n3Hna0RYa',\n",
       "   'balance': {'available': 1203.42, 'current': 1274.93},\n",
       "   'institution_type': 'fake_institution',\n",
       "   'meta': {'name': 'Plaid Savings', 'number': '9606'},\n",
       "   'subtype': 'savings',\n",
       "   'type': 'depository'},\n",
       "  {'_id': 'nban4wnPKEtnmEpaKzbYFYQvA7D7pnCaeDBMy',\n",
       "   '_item': 'KdDjmojBERUKx3JkDd9RuxA5EvejA4SENO4AA',\n",
       "   '_user': 'eJXpMzpR65FP4RYno6rzuA7OZjd9n3Hna0RYa',\n",
       "   'balance': {'available': 1081.78, 'current': 1253.32},\n",
       "   'institution_type': 'fake_institution',\n",
       "   'meta': {'name': 'Plaid Checking', 'number': '1702'},\n",
       "   'subtype': 'checking',\n",
       "   'type': 'depository'},\n",
       "  {'_id': 'XARE85EJqKsjxLp6XR8ocg8VakrkXpTXmRdOo',\n",
       "   '_item': 'KdDjmojBERUKx3JkDd9RuxA5EvejA4SENO4AA',\n",
       "   '_user': 'eJXpMzpR65FP4RYno6rzuA7OZjd9n3Hna0RYa',\n",
       "   'balance': {'available': 7205.23, 'current': 7255.23},\n",
       "   'institution_type': 'fake_institution',\n",
       "   'meta': {'name': 'Plaid Premier Checking', 'number': '5204'},\n",
       "   'subtype': 'checking',\n",
       "   'type': 'depository'},\n",
       "  {'_id': 'pJPM4LMBNQFrOwp0jqEyTwyxJQrQbgU6kq37k',\n",
       "   '_item': 'KdDjmojBERUKx3JkDd9RuxA5EvejA4SENO4AA',\n",
       "   '_user': 'eJXpMzpR65FP4RYno6rzuA7OZjd9n3Hna0RYa',\n",
       "   'balance': {'available': 9930, 'current': 2275.58},\n",
       "   'institution_type': 'fake_institution',\n",
       "   'meta': {'limit': 12500, 'name': 'Plaid Credit Card', 'number': '3002'},\n",
       "   'type': 'credit'}],\n",
       " 'transactions': [{'_account': 'XARE85EJqKsjxLp6XR8ocg8VakrkXpTXmRdOo',\n",
       "   '_id': '0AZ0De04KqsreDgVwM1RSRYjyd8yXxSDQ8Zxn',\n",
       "   'amount': 200,\n",
       "   'category': ['Transfer', 'Withdrawal', 'ATM'],\n",
       "   'category_id': '21012002',\n",
       "   'date': '2014-07-21',\n",
       "   'meta': {'location': {'city': 'San Francisco', 'state': 'CA'}},\n",
       "   'name': 'ATM Withdrawal',\n",
       "   'pending': False,\n",
       "   'score': {'location': {'city': 1, 'state': 1}, 'name': 1},\n",
       "   'type': {'primary': 'special'}},\n",
       "  {'_account': 'XARE85EJqKsjxLp6XR8ocg8VakrkXpTXmRdOo',\n",
       "   '_id': '3mg4qV4JZycjewvKEzrLTYMzdr1MmvcO4Z3zX',\n",
       "   'amount': 240,\n",
       "   'category': ['Transfer', 'Account Transfer'],\n",
       "   'category_id': '21001000',\n",
       "   'date': '2014-07-24',\n",
       "   'meta': {'location': {}},\n",
       "   'name': 'Online Transfer from External Sav ...3092',\n",
       "   'pending': False,\n",
       "   'score': {'location': {}, 'name': 1},\n",
       "   'type': {'primary': 'special'}},\n",
       "  {'_account': 'pJPM4LMBNQFrOwp0jqEyTwyxJQrQbgU6kq37k',\n",
       "   '_id': 'KdDjmojBERUKx3JkDdO5IaRJdZeZKNuK4bnKJ1',\n",
       "   'amount': 2307.15,\n",
       "   'category': ['Shops', 'Computers and Electronics'],\n",
       "   'category_id': '19013000',\n",
       "   'date': '2014-06-23',\n",
       "   'meta': {'location': {'address': '1 Stockton St',\n",
       "     'city': 'San Francisco',\n",
       "     'state': 'CA'}},\n",
       "   'name': 'Apple Store',\n",
       "   'pending': False,\n",
       "   'score': {'location': {'address': 1, 'city': 1, 'state': 1}, 'name': 0.2},\n",
       "   'type': {'primary': 'place'}},\n",
       "  {'_account': 'nban4wnPKEtnmEpaKzbYFYQvA7D7pnCaeDBMy',\n",
       "   '_id': 'DAE3Yo3wXgskjXV1JqBDIrDBVvjMLDCQ4rMQdR',\n",
       "   'amount': 3.19,\n",
       "   'category': ['Food and Drink', 'Restaurants', 'Coffee Shop'],\n",
       "   'category_id': '13005043',\n",
       "   'date': '2014-06-21',\n",
       "   'meta': {'location': {'address': '874 Avenue of the Americas',\n",
       "     'city': 'New York',\n",
       "     'state': 'NY'}},\n",
       "   'name': 'Gregorys Coffee',\n",
       "   'pending': False,\n",
       "   'score': {'location': {'address': 1, 'city': 1, 'state': 1}, 'name': 0.2},\n",
       "   'type': {'primary': 'place'}},\n",
       "  {'_account': 'nban4wnPKEtnmEpaKzbYFYQvA7D7pnCaeDBMy',\n",
       "   '_id': '1vAj1Eja5BIn4R7V6Mp1hBPQgkryZRHryZ0rDY',\n",
       "   'amount': 80,\n",
       "   'category': ['Transfer', 'Withdrawal', 'ATM'],\n",
       "   'category_id': '21012002',\n",
       "   'date': '2014-06-08',\n",
       "   'meta': {'location': {'city': 'San Francisco', 'state': 'CA'}},\n",
       "   'name': 'ATM Withdrawal',\n",
       "   'pending': False,\n",
       "   'score': {'location': {'city': 1, 'state': 1}, 'name': 1},\n",
       "   'type': {'primary': 'special'}},\n",
       "  {'_account': 'QPO8Jo8vdDHMepg41PBwckXm4KdK1yUdmXOwK',\n",
       "   '_id': 'zq7MLAM4N3cjeKvXP9YqtBJXvZeajJCkjQakYv',\n",
       "   'amount': -240,\n",
       "   'category': ['Transfer', 'Account Transfer'],\n",
       "   'category_id': '21001000',\n",
       "   'date': '2014-06-02',\n",
       "   'meta': {'location': {}},\n",
       "   'name': 'Online Transfer from Chk ...1702',\n",
       "   'pending': False,\n",
       "   'score': {'location': {}, 'name': 1},\n",
       "   'type': {'primary': 'special'}},\n",
       "  {'_account': 'nban4wnPKEtnmEpaKzbYFYQvA7D7pnCaeDBMy',\n",
       "   '_id': '96d5AO5gLjC9EowVyn5OCBRjJR9LaOHJnBVJzd',\n",
       "   'amount': 240,\n",
       "   'category': ['Transfer', 'Account Transfer'],\n",
       "   'category_id': '21001000',\n",
       "   'date': '2014-06-01',\n",
       "   'meta': {'location': {}},\n",
       "   'name': 'Online Transfer to Sav ...9606',\n",
       "   'pending': False,\n",
       "   'score': {'location': {}, 'name': 1},\n",
       "   'type': {'primary': 'special'}},\n",
       "  {'_account': 'nban4wnPKEtnmEpaKzbYFYQvA7D7pnCaeDBMy',\n",
       "   '_id': 'VK0EQ5Ea13u9Qwzm6nA8CNaze8gdJoCJvx6JDO',\n",
       "   'amount': -0.93,\n",
       "   'category': ['Interest'],\n",
       "   'category_id': '15000000',\n",
       "   'date': '2014-05-17',\n",
       "   'meta': {'location': {}},\n",
       "   'name': 'Interest Payment',\n",
       "   'pending': False,\n",
       "   'score': {'location': {}, 'name': 0.2},\n",
       "   'type': {'primary': 'unresolved'}},\n",
       "  {'_account': 'pJPM4LMBNQFrOwp0jqEyTwyxJQrQbgU6kq37k',\n",
       "   '_id': 'aJPEm5EVqxF6yk8K5nPeFbDpnPR57wI3xMR3pP',\n",
       "   'amount': 12.74,\n",
       "   'date': '2014-05-12',\n",
       "   'meta': {'location': {'address': '262 W 15th St',\n",
       "     'city': 'New York',\n",
       "     'coordinates': {'lat': 40.740352, 'lon': -74.001761},\n",
       "     'state': 'NY'}},\n",
       "   'name': 'Golden Crepes',\n",
       "   'pending': False,\n",
       "   'score': {'location': {'address': 1, 'city': 1, 'state': 1}, 'name': 0.2},\n",
       "   'type': {'primary': 'place'}},\n",
       "  {'_account': 'nban4wnPKEtnmEpaKzbYFYQvA7D7pnCaeDBMy',\n",
       "   '_id': 'moPE4dE1yMHJX5pmRzwrcvpQqPdDnZHEKPREYL',\n",
       "   'amount': 7.23,\n",
       "   'category': ['Food and Drink', 'Restaurants', 'Coffee Shop'],\n",
       "   'category_id': '13005043',\n",
       "   'date': '2014-05-09',\n",
       "   'meta': {'location': {'address': '211 E 3rd St',\n",
       "     'city': 'Winston Salem',\n",
       "     'state': 'NC'}},\n",
       "   'name': 'Krankies Coffee',\n",
       "   'pending': False,\n",
       "   'score': {'location': {'address': 1, 'city': 1, 'state': 1}, 'name': 0.2},\n",
       "   'type': {'primary': 'place'}},\n",
       "  {'_account': 'pJPM4LMBNQFrOwp0jqEyTwyxJQrQbgU6kq37k',\n",
       "   '_id': 'P1xJboJA5Ls31gJrMQEBU5dZD3NmPrH5R6g5jL',\n",
       "   'amount': 118.23,\n",
       "   'category': ['Shops', 'Digital Purchase'],\n",
       "   'category_id': '19019000',\n",
       "   'date': '2014-04-26',\n",
       "   'meta': {'location': {}},\n",
       "   'name': 'Banana Republic',\n",
       "   'pending': False,\n",
       "   'score': {'location': {}, 'name': 0.2},\n",
       "   'type': {'primary': 'digital'}},\n",
       "  {'_account': 'nban4wnPKEtnmEpaKzbYFYQvA7D7pnCaeDBMy',\n",
       "   '_id': 'dRBp95pEwZfMXENvpw3YHY43VNK4LVSP7RkPpA',\n",
       "   'amount': -800,\n",
       "   'category': ['Transfer', 'Third Party', 'Venmo'],\n",
       "   'category_id': '21010001',\n",
       "   'date': '2014-04-20',\n",
       "   'meta': {'location': {}},\n",
       "   'name': 'Venmo Cashout 18375552',\n",
       "   'pending': False,\n",
       "   'score': {'location': {}, 'name': 1},\n",
       "   'type': {'primary': 'special'}},\n",
       "  {'_account': 'nban4wnPKEtnmEpaKzbYFYQvA7D7pnCaeDBMy',\n",
       "   '_id': 'moPE4dE1yMHJX5pmRzwrcvpkxdopLxtEKPREYo',\n",
       "   'amount': 120,\n",
       "   'category': ['Transfer', 'Third Party', 'Venmo'],\n",
       "   'category_id': '21010001',\n",
       "   'date': '2014-04-19',\n",
       "   'meta': {'location': {}},\n",
       "   'name': 'Venmo Payment 16991172',\n",
       "   'pending': False,\n",
       "   'score': {'location': {}, 'name': 1},\n",
       "   'type': {'primary': 'special'}},\n",
       "  {'_account': 'pJPM4LMBNQFrOwp0jqEyTwyxJQrQbgU6kq37k',\n",
       "   '_id': 'JmN0JX0q5EcaQJM9ZbOwUYyyp607m4u3PR63Vn',\n",
       "   'amount': 5.32,\n",
       "   'category': ['Food and Drink', 'Restaurants', 'Coffee Shop'],\n",
       "   'category_id': '13005043',\n",
       "   'date': '2014-04-17',\n",
       "   'meta': {'location': {'address': '1009 Marietta St Nw # B',\n",
       "     'city': 'Atlanta',\n",
       "     'state': 'GA'}},\n",
       "   'name': 'Octane Coffee Bar and Lounge',\n",
       "   'pending': False,\n",
       "   'score': {'location': {'address': 1, 'city': 1, 'state': 1}, 'name': 0.2},\n",
       "   'type': {'primary': 'place'}},\n",
       "  {'_account': 'pJPM4LMBNQFrOwp0jqEyTwyxJQrQbgU6kq37k',\n",
       "   '_id': '4r0aBVa85Kt3BDPk10a4U5OD3XKjE7Hzxpez6B',\n",
       "   'amount': 28.57,\n",
       "   'category': ['Food and Drink', 'Restaurants', 'Pizza'],\n",
       "   'category_id': '13005012',\n",
       "   'date': '2014-04-11',\n",
       "   'meta': {'location': {'address': '2625 David Dr',\n",
       "     'city': 'Metairie',\n",
       "     'coordinates': {'lat': 29.999986, 'lon': -90.21869},\n",
       "     'state': 'LA',\n",
       "     'zip': '70003'}},\n",
       "   'name': 'Papa Johns Pizza',\n",
       "   'pending': False,\n",
       "   'score': {'location': {'address': 1, 'city': 1, 'state': 1, 'zip': 1},\n",
       "    'name': 0.2},\n",
       "   'type': {'primary': 'place'}},\n",
       "  {'_account': 'QPO8Jo8vdDHMepg41PBwckXm4KdK1yUdmXOwK',\n",
       "   '_id': 'eJXpMzpR65FP4RYno6yjhBDxgkM6pXC9RKM9o3',\n",
       "   'amount': -3042.44,\n",
       "   'category': ['Transfer', 'Payroll'],\n",
       "   'category_id': '21009000',\n",
       "   'date': '2014-03-27',\n",
       "   'meta': {'location': {}},\n",
       "   'name': 'Company Payroll',\n",
       "   'pending': False,\n",
       "   'score': {'location': {}, 'name': 1},\n",
       "   'type': {'primary': 'special'}}]}"
      ]
     },
     "execution_count": 30,
     "metadata": {},
     "output_type": "execute_result"
    }
   ],
   "source": [
    "resp"
   ]
  },
  {
   "cell_type": "code",
   "execution_count": 25,
   "metadata": {
    "collapsed": false
   },
   "outputs": [
    {
     "ename": "AttributeError",
     "evalue": "'dict' object has no attribute 'json'",
     "output_type": "error",
     "traceback": [
      "\u001b[0;31m---------------------------------------------------------------\u001b[0m",
      "\u001b[0;31mAttributeError\u001b[0m                Traceback (most recent call last)",
      "\u001b[0;32m<ipython-input-25-5c170eb842ea>\u001b[0m in \u001b[0;36m<module>\u001b[0;34m()\u001b[0m\n\u001b[0;32m----> 1\u001b[0;31m \u001b[0mresp\u001b[0m\u001b[0;34m.\u001b[0m\u001b[0mjson\u001b[0m\u001b[0;34m(\u001b[0m\u001b[0;34m)\u001b[0m\u001b[0;34m\u001b[0m\u001b[0m\n\u001b[0m",
      "\u001b[0;31mAttributeError\u001b[0m: 'dict' object has no attribute 'json'"
     ]
    }
   ],
   "source": [
    "resp.json()"
   ]
  },
  {
   "cell_type": "code",
   "execution_count": 29,
   "metadata": {
    "collapsed": false
   },
   "outputs": [
    {
     "data": {
      "text/plain": [
       "[{'_account': 'XARE85EJqKsjxLp6XR8ocg8VakrkXpTXmRdOo',\n",
       "  '_id': '0AZ0De04KqsreDgVwM1RSRYjyd8yXxSDQ8Zxn',\n",
       "  'amount': 200,\n",
       "  'category': ['Transfer', 'Withdrawal', 'ATM'],\n",
       "  'category_id': '21012002',\n",
       "  'date': '2014-07-21',\n",
       "  'meta': {'location': {'city': 'San Francisco', 'state': 'CA'}},\n",
       "  'name': 'ATM Withdrawal',\n",
       "  'pending': False,\n",
       "  'score': {'location': {'city': 1, 'state': 1}, 'name': 1},\n",
       "  'type': {'primary': 'special'}},\n",
       " {'_account': 'XARE85EJqKsjxLp6XR8ocg8VakrkXpTXmRdOo',\n",
       "  '_id': '3mg4qV4JZycjewvKEzrLTYMzdr1MmvcO4Z3zX',\n",
       "  'amount': 240,\n",
       "  'category': ['Transfer', 'Account Transfer'],\n",
       "  'category_id': '21001000',\n",
       "  'date': '2014-07-24',\n",
       "  'meta': {'location': {}},\n",
       "  'name': 'Online Transfer from External Sav ...3092',\n",
       "  'pending': False,\n",
       "  'score': {'location': {}, 'name': 1},\n",
       "  'type': {'primary': 'special'}},\n",
       " {'_account': 'pJPM4LMBNQFrOwp0jqEyTwyxJQrQbgU6kq37k',\n",
       "  '_id': 'KdDjmojBERUKx3JkDdO5IaRJdZeZKNuK4bnKJ1',\n",
       "  'amount': 2307.15,\n",
       "  'category': ['Shops', 'Computers and Electronics'],\n",
       "  'category_id': '19013000',\n",
       "  'date': '2014-06-23',\n",
       "  'meta': {'location': {'address': '1 Stockton St',\n",
       "    'city': 'San Francisco',\n",
       "    'state': 'CA'}},\n",
       "  'name': 'Apple Store',\n",
       "  'pending': False,\n",
       "  'score': {'location': {'address': 1, 'city': 1, 'state': 1}, 'name': 0.2},\n",
       "  'type': {'primary': 'place'}},\n",
       " {'_account': 'nban4wnPKEtnmEpaKzbYFYQvA7D7pnCaeDBMy',\n",
       "  '_id': 'DAE3Yo3wXgskjXV1JqBDIrDBVvjMLDCQ4rMQdR',\n",
       "  'amount': 3.19,\n",
       "  'category': ['Food and Drink', 'Restaurants', 'Coffee Shop'],\n",
       "  'category_id': '13005043',\n",
       "  'date': '2014-06-21',\n",
       "  'meta': {'location': {'address': '874 Avenue of the Americas',\n",
       "    'city': 'New York',\n",
       "    'state': 'NY'}},\n",
       "  'name': 'Gregorys Coffee',\n",
       "  'pending': False,\n",
       "  'score': {'location': {'address': 1, 'city': 1, 'state': 1}, 'name': 0.2},\n",
       "  'type': {'primary': 'place'}},\n",
       " {'_account': 'nban4wnPKEtnmEpaKzbYFYQvA7D7pnCaeDBMy',\n",
       "  '_id': '1vAj1Eja5BIn4R7V6Mp1hBPQgkryZRHryZ0rDY',\n",
       "  'amount': 80,\n",
       "  'category': ['Transfer', 'Withdrawal', 'ATM'],\n",
       "  'category_id': '21012002',\n",
       "  'date': '2014-06-08',\n",
       "  'meta': {'location': {'city': 'San Francisco', 'state': 'CA'}},\n",
       "  'name': 'ATM Withdrawal',\n",
       "  'pending': False,\n",
       "  'score': {'location': {'city': 1, 'state': 1}, 'name': 1},\n",
       "  'type': {'primary': 'special'}},\n",
       " {'_account': 'QPO8Jo8vdDHMepg41PBwckXm4KdK1yUdmXOwK',\n",
       "  '_id': 'zq7MLAM4N3cjeKvXP9YqtBJXvZeajJCkjQakYv',\n",
       "  'amount': -240,\n",
       "  'category': ['Transfer', 'Account Transfer'],\n",
       "  'category_id': '21001000',\n",
       "  'date': '2014-06-02',\n",
       "  'meta': {'location': {}},\n",
       "  'name': 'Online Transfer from Chk ...1702',\n",
       "  'pending': False,\n",
       "  'score': {'location': {}, 'name': 1},\n",
       "  'type': {'primary': 'special'}},\n",
       " {'_account': 'nban4wnPKEtnmEpaKzbYFYQvA7D7pnCaeDBMy',\n",
       "  '_id': '96d5AO5gLjC9EowVyn5OCBRjJR9LaOHJnBVJzd',\n",
       "  'amount': 240,\n",
       "  'category': ['Transfer', 'Account Transfer'],\n",
       "  'category_id': '21001000',\n",
       "  'date': '2014-06-01',\n",
       "  'meta': {'location': {}},\n",
       "  'name': 'Online Transfer to Sav ...9606',\n",
       "  'pending': False,\n",
       "  'score': {'location': {}, 'name': 1},\n",
       "  'type': {'primary': 'special'}},\n",
       " {'_account': 'nban4wnPKEtnmEpaKzbYFYQvA7D7pnCaeDBMy',\n",
       "  '_id': 'VK0EQ5Ea13u9Qwzm6nA8CNaze8gdJoCJvx6JDO',\n",
       "  'amount': -0.93,\n",
       "  'category': ['Interest'],\n",
       "  'category_id': '15000000',\n",
       "  'date': '2014-05-17',\n",
       "  'meta': {'location': {}},\n",
       "  'name': 'Interest Payment',\n",
       "  'pending': False,\n",
       "  'score': {'location': {}, 'name': 0.2},\n",
       "  'type': {'primary': 'unresolved'}},\n",
       " {'_account': 'pJPM4LMBNQFrOwp0jqEyTwyxJQrQbgU6kq37k',\n",
       "  '_id': 'aJPEm5EVqxF6yk8K5nPeFbDpnPR57wI3xMR3pP',\n",
       "  'amount': 12.74,\n",
       "  'date': '2014-05-12',\n",
       "  'meta': {'location': {'address': '262 W 15th St',\n",
       "    'city': 'New York',\n",
       "    'coordinates': {'lat': 40.740352, 'lon': -74.001761},\n",
       "    'state': 'NY'}},\n",
       "  'name': 'Golden Crepes',\n",
       "  'pending': False,\n",
       "  'score': {'location': {'address': 1, 'city': 1, 'state': 1}, 'name': 0.2},\n",
       "  'type': {'primary': 'place'}},\n",
       " {'_account': 'nban4wnPKEtnmEpaKzbYFYQvA7D7pnCaeDBMy',\n",
       "  '_id': 'moPE4dE1yMHJX5pmRzwrcvpQqPdDnZHEKPREYL',\n",
       "  'amount': 7.23,\n",
       "  'category': ['Food and Drink', 'Restaurants', 'Coffee Shop'],\n",
       "  'category_id': '13005043',\n",
       "  'date': '2014-05-09',\n",
       "  'meta': {'location': {'address': '211 E 3rd St',\n",
       "    'city': 'Winston Salem',\n",
       "    'state': 'NC'}},\n",
       "  'name': 'Krankies Coffee',\n",
       "  'pending': False,\n",
       "  'score': {'location': {'address': 1, 'city': 1, 'state': 1}, 'name': 0.2},\n",
       "  'type': {'primary': 'place'}},\n",
       " {'_account': 'pJPM4LMBNQFrOwp0jqEyTwyxJQrQbgU6kq37k',\n",
       "  '_id': 'P1xJboJA5Ls31gJrMQEBU5dZD3NmPrH5R6g5jL',\n",
       "  'amount': 118.23,\n",
       "  'category': ['Shops', 'Digital Purchase'],\n",
       "  'category_id': '19019000',\n",
       "  'date': '2014-04-26',\n",
       "  'meta': {'location': {}},\n",
       "  'name': 'Banana Republic',\n",
       "  'pending': False,\n",
       "  'score': {'location': {}, 'name': 0.2},\n",
       "  'type': {'primary': 'digital'}},\n",
       " {'_account': 'nban4wnPKEtnmEpaKzbYFYQvA7D7pnCaeDBMy',\n",
       "  '_id': 'dRBp95pEwZfMXENvpw3YHY43VNK4LVSP7RkPpA',\n",
       "  'amount': -800,\n",
       "  'category': ['Transfer', 'Third Party', 'Venmo'],\n",
       "  'category_id': '21010001',\n",
       "  'date': '2014-04-20',\n",
       "  'meta': {'location': {}},\n",
       "  'name': 'Venmo Cashout 18375552',\n",
       "  'pending': False,\n",
       "  'score': {'location': {}, 'name': 1},\n",
       "  'type': {'primary': 'special'}},\n",
       " {'_account': 'nban4wnPKEtnmEpaKzbYFYQvA7D7pnCaeDBMy',\n",
       "  '_id': 'moPE4dE1yMHJX5pmRzwrcvpkxdopLxtEKPREYo',\n",
       "  'amount': 120,\n",
       "  'category': ['Transfer', 'Third Party', 'Venmo'],\n",
       "  'category_id': '21010001',\n",
       "  'date': '2014-04-19',\n",
       "  'meta': {'location': {}},\n",
       "  'name': 'Venmo Payment 16991172',\n",
       "  'pending': False,\n",
       "  'score': {'location': {}, 'name': 1},\n",
       "  'type': {'primary': 'special'}},\n",
       " {'_account': 'pJPM4LMBNQFrOwp0jqEyTwyxJQrQbgU6kq37k',\n",
       "  '_id': 'JmN0JX0q5EcaQJM9ZbOwUYyyp607m4u3PR63Vn',\n",
       "  'amount': 5.32,\n",
       "  'category': ['Food and Drink', 'Restaurants', 'Coffee Shop'],\n",
       "  'category_id': '13005043',\n",
       "  'date': '2014-04-17',\n",
       "  'meta': {'location': {'address': '1009 Marietta St Nw # B',\n",
       "    'city': 'Atlanta',\n",
       "    'state': 'GA'}},\n",
       "  'name': 'Octane Coffee Bar and Lounge',\n",
       "  'pending': False,\n",
       "  'score': {'location': {'address': 1, 'city': 1, 'state': 1}, 'name': 0.2},\n",
       "  'type': {'primary': 'place'}},\n",
       " {'_account': 'pJPM4LMBNQFrOwp0jqEyTwyxJQrQbgU6kq37k',\n",
       "  '_id': '4r0aBVa85Kt3BDPk10a4U5OD3XKjE7Hzxpez6B',\n",
       "  'amount': 28.57,\n",
       "  'category': ['Food and Drink', 'Restaurants', 'Pizza'],\n",
       "  'category_id': '13005012',\n",
       "  'date': '2014-04-11',\n",
       "  'meta': {'location': {'address': '2625 David Dr',\n",
       "    'city': 'Metairie',\n",
       "    'coordinates': {'lat': 29.999986, 'lon': -90.21869},\n",
       "    'state': 'LA',\n",
       "    'zip': '70003'}},\n",
       "  'name': 'Papa Johns Pizza',\n",
       "  'pending': False,\n",
       "  'score': {'location': {'address': 1, 'city': 1, 'state': 1, 'zip': 1},\n",
       "   'name': 0.2},\n",
       "  'type': {'primary': 'place'}},\n",
       " {'_account': 'QPO8Jo8vdDHMepg41PBwckXm4KdK1yUdmXOwK',\n",
       "  '_id': 'eJXpMzpR65FP4RYno6yjhBDxgkM6pXC9RKM9o3',\n",
       "  'amount': -3042.44,\n",
       "  'category': ['Transfer', 'Payroll'],\n",
       "  'category_id': '21009000',\n",
       "  'date': '2014-03-27',\n",
       "  'meta': {'location': {}},\n",
       "  'name': 'Company Payroll',\n",
       "  'pending': False,\n",
       "  'score': {'location': {}, 'name': 1},\n",
       "  'type': {'primary': 'special'}}]"
      ]
     },
     "execution_count": 29,
     "metadata": {},
     "output_type": "execute_result"
    }
   ],
   "source": [
    "resp['transactions']"
   ]
  },
  {
   "cell_type": "code",
   "execution_count": 24,
   "metadata": {
    "collapsed": true
   },
   "outputs": [
    {
     "data": {
      "text/plain": [
       "{'available': 1203.42, 'current': 1274.93}"
      ]
     },
     "execution_count": 24,
     "metadata": {},
     "output_type": "execute_result"
    }
   ],
   "source": [
    "resp['accounts'][0]['balance']"
   ]
  },
  {
   "cell_type": "code",
   "execution_count": 15,
   "metadata": {
    "collapsed": false
   },
   "outputs": [],
   "source": [
    "# json_normalize(nested_json) does it pretty well, leaving lists in the keys with children, e.g. \"category\"\n",
    "# let's put them all in this form\n",
    "df = pd.DataFrame(\n",
    "for i in trans:\n",
    "    df.append(json_normalize(i))\n",
    "    "
   ]
  },
  {
   "cell_type": "code",
   "execution_count": 38,
   "metadata": {
    "collapsed": true
   },
   "outputs": [
    {
     "data": {
      "text/plain": [
       "[['3mg4qV4JZycjewvKEzrLTYMzdr1MmvcO4Z3zX',\n",
       "  ['Transfer', 'Account Transfer'],\n",
       "  'Online Transfer from External Sav ...3092'],\n",
       " ['KdDjmojBERUKx3JkDdO5IaRJdZeZKNuK4bnKJ1',\n",
       "  ['Shops', 'Computers and Electronics'],\n",
       "  'Apple Store'],\n",
       " ['96d5AO5gLjC9EowVyn5OCBRjJR9LaOHJnBVJzd',\n",
       "  ['Transfer', 'Account Transfer'],\n",
       "  'Online Transfer to Sav ...9606']]"
      ]
     },
     "execution_count": 38,
     "metadata": {},
     "output_type": "execute_result"
    }
   ],
   "source": [
    "# Grab all transactions over $200\n",
    "[[i['_id'], i['category'], i['name']] for i in trans if i['amount']>200]"
   ]
  },
  {
   "cell_type": "code",
   "execution_count": 12,
   "metadata": {
    "collapsed": false
   },
   "outputs": [
    {
     "data": {
      "text/plain": [
       "['2014-07-21',\n",
       " '2014-07-24',\n",
       " '2014-06-23',\n",
       " '2014-06-21',\n",
       " '2014-06-08',\n",
       " '2014-06-02',\n",
       " '2014-06-01',\n",
       " '2014-05-17',\n",
       " '2014-05-12',\n",
       " '2014-05-09',\n",
       " '2014-04-26',\n",
       " '2014-04-20',\n",
       " '2014-04-19',\n",
       " '2014-04-17',\n",
       " '2014-04-11',\n",
       " '2014-03-27']"
      ]
     },
     "execution_count": 12,
     "metadata": {},
     "output_type": "execute_result"
    }
   ],
   "source": [
    "# Grab transactions within a date range (normal boolean worksM)\n",
    "start='2014-05-09'\n",
    "end='2014-06-02'\n",
    "[[i['name'],i['date']] for i in trans if i['date']<=end if i['date']>=start]"
   ]
  }
 ],
 "metadata": {
  "anaconda-cloud": {},
  "kernelspec": {
   "display_name": "Python [conda env:py35]",
   "language": "python",
   "name": "conda-env-py35-py"
  },
  "language_info": {
   "codemirror_mode": {
    "name": "ipython",
    "version": 3
   },
   "file_extension": ".py",
   "mimetype": "text/x-python",
   "name": "python",
   "nbconvert_exporter": "python",
   "pygments_lexer": "ipython3",
   "version": "3.5.2"
  }
 },
 "nbformat": 4,
 "nbformat_minor": 1
}
