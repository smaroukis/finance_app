{
 "cells": [
  {
   "cell_type": "code",
   "execution_count": 9,
   "metadata": {
    "collapsed": false
   },
   "outputs": [],
   "source": [
    "import os\n",
    "import plaid_app\n",
    "import pandas as pd\n",
    "from pandas.io.json import json_normalize\n"
   ]
  },
  {
   "cell_type": "code",
   "execution_count": 10,
   "metadata": {
    "collapsed": false
   },
   "outputs": [
    {
     "name": "stderr",
     "output_type": "stream",
     "text": [
      "/Users/Spencer/Distributions_et_al/anaconda/envs/py35/lib/python3.5/site-packages/plaid/client.py:155: UserWarning: \n",
      "                Tartan is not intended for production usage.\n",
      "                Swap out url for https://api.plaid.com\n",
      "                via Client.config before switching to production\n",
      "            \n",
      "  ''')\n"
     ]
    }
   ],
   "source": [
    "trans = plaid_app.get_transactions()\n",
    "\n",
    "row1= json_normalize(trans[0])"
   ]
  },
  {
   "cell_type": "code",
   "execution_count": null,
   "metadata": {
    "collapsed": true
   },
   "outputs": [],
   "source": [
    "# We have a nested list \n",
    "# How do we use this to store data? in a database? in a pandas table?\n",
    "\n"
   ]
  },
  {
   "cell_type": "code",
   "execution_count": 15,
   "metadata": {
    "collapsed": false
   },
   "outputs": [],
   "source": [
    "# json_normalize(nested_json) does it pretty well, leaving lists in the keys with children, e.g. \"category\"\n",
    "# let's put them all in this form\n",
    "df = pd.DataFrame()\n",
    "for i in trans:\n",
    "    df.append(json_normalize(i))\n",
    "    "
   ]
  },
  {
   "cell_type": "code",
   "execution_count": 45,
   "metadata": {
    "collapsed": false
   },
   "outputs": [
    {
     "data": {
      "text/plain": [
       "{'location': {'city': 'San Francisco', 'state': 'CA'}}"
      ]
     },
     "execution_count": 45,
     "metadata": {},
     "output_type": "execute_result"
    }
   ],
   "source": [
    "# Grab all transactions Over 500\n",
    "type(trans)\n",
    "type(trans[0])\n",
    "trans[0]['meta'] "
   ]
  },
  {
   "cell_type": "code",
   "execution_count": 38,
   "metadata": {
    "collapsed": false
   },
   "outputs": [
    {
     "data": {
      "text/plain": [
       "[['3mg4qV4JZycjewvKEzrLTYMzdr1MmvcO4Z3zX',\n",
       "  ['Transfer', 'Account Transfer'],\n",
       "  'Online Transfer from External Sav ...3092'],\n",
       " ['KdDjmojBERUKx3JkDdO5IaRJdZeZKNuK4bnKJ1',\n",
       "  ['Shops', 'Computers and Electronics'],\n",
       "  'Apple Store'],\n",
       " ['96d5AO5gLjC9EowVyn5OCBRjJR9LaOHJnBVJzd',\n",
       "  ['Transfer', 'Account Transfer'],\n",
       "  'Online Transfer to Sav ...9606']]"
      ]
     },
     "execution_count": 38,
     "metadata": {},
     "output_type": "execute_result"
    }
   ],
   "source": [
    "[[i['_id'], i['category'], i['name']] for i in trans if i['amount']>200]"
   ]
  },
  {
   "cell_type": "code",
   "execution_count": null,
   "metadata": {
    "collapsed": true
   },
   "outputs": [],
   "source": []
  }
 ],
 "metadata": {
  "anaconda-cloud": {},
  "kernelspec": {
   "display_name": "Python [conda env:py35]",
   "language": "python",
   "name": "conda-env-py35-py"
  },
  "language_info": {
   "codemirror_mode": {
    "name": "ipython",
    "version": 3
   },
   "file_extension": ".py",
   "mimetype": "text/x-python",
   "name": "python",
   "nbconvert_exporter": "python",
   "pygments_lexer": "ipython3",
   "version": "3.5.2"
  }
 },
 "nbformat": 4,
 "nbformat_minor": 1
}
