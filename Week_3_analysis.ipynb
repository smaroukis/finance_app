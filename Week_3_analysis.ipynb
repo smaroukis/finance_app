{
 "cells": [
  {
   "cell_type": "code",
   "execution_count": 27,
   "metadata": {
    "collapsed": true
   },
   "outputs": [],
   "source": [
    "import pandas as pd\n",
    "import itertools\n",
    "import datetime\n",
    "from config import *\n",
    "import matplotlib.pyplot as plt\n",
    "import numpy as np\n",
    "%matplotlib inline"
   ]
  },
  {
   "cell_type": "code",
   "execution_count": 2,
   "metadata": {
    "collapsed": true
   },
   "outputs": [],
   "source": [
    "transaction_file = 'transactions.csv'"
   ]
  },
  {
   "cell_type": "code",
   "execution_count": 3,
   "metadata": {
    "collapsed": true
   },
   "outputs": [],
   "source": [
    "df = pd.read_csv(transaction_file, parse_dates=['Date'], index_col = 'Date')\n",
    "#df2 = df.truncate(after = '09/02/2016')"
   ]
  },
  {
   "cell_type": "code",
   "execution_count": 4,
   "metadata": {
    "collapsed": true
   },
   "outputs": [],
   "source": [
    "# Defining Groups\n",
    "\n",
    "\n",
    "food = ['Restaurants','Fast Food','Groceries','Food & Dining']\n",
    "coffee = ['Coffee Shops']\n",
    "transport = ['Public Transportation','Gas & Fuel', 'Rental Car & Taxi','Auto & Transport','Parking']\n",
    "travel = ['Travel','Coach Bus','Air Travel','Hotel']\n",
    "drinks = ['Alcohol & Bars']\n",
    "sport = ['Sports','Sporting Goods','Hobbies']\n",
    "shopping = ['Electronics & Software','Music','Books','Clothing','Books & Supplies','Gift','Office Supplies','Mobile Phone'] # should it be a set?\n",
    "entertainment = ['Event Tickets','Entertainment','Amusement','Arts']\n",
    "fees = ['ATM Fee','Finance Charge','Fees & Charges','Bank Fee','State Tax','Federal Tax','Service Fee']\n",
    "misc = ['Printing','Hair','Uncategorized','Business Services','Transfer for Cash Spending','Doctor','Eyecare','Misc Expenses']\n",
    "home = ['Home','Utilities','Mortgage & Rent','Rent', 'Home Improvement']\n",
    "edu = ['Education','Tuition']\n",
    "\n",
    "llexpenses = [food, coffee, transport, travel, drinks, sport, shopping, entertainment, fees, misc, home, edu]\n",
    "names = ['food','coffee','transport','travel','drinks','sport','shopping','entertainment','fees','misc', 'home', 'edu']\n",
    "\n",
    "allcats = food+coffee+transport+travel+drinks+sport + shopping+ entertainment+fees+misc+home+edu\n",
    "#expenses = food+coffee+transport+travel+drinks+sport + shopping+ entertainment+fees+misc"
   ]
  },
  {
   "cell_type": "code",
   "execution_count": 32,
   "metadata": {
    "collapsed": false
   },
   "outputs": [
    {
     "data": {
      "text/plain": [
       "{'Arts',\n",
       " 'Bank Fee',\n",
       " 'Cash & ATM',\n",
       " 'Coach Bus',\n",
       " 'Education',\n",
       " 'Event Tickets',\n",
       " 'Eyecare',\n",
       " 'Federal Tax',\n",
       " 'Finance Charge',\n",
       " 'Hobbies',\n",
       " 'Home',\n",
       " 'Home Improvement',\n",
       " 'Income',\n",
       " 'Interest Income',\n",
       " 'Legal',\n",
       " 'Misc Expenses',\n",
       " 'Mobile Phone',\n",
       " 'Movies & DVDs',\n",
       " 'Office Supplies',\n",
       " 'Paycheck',\n",
       " 'Pharmacy',\n",
       " 'Reimbursement',\n",
       " 'Rent',\n",
       " 'Rental Income',\n",
       " 'Returned Purchase',\n",
       " 'Service & Parts',\n",
       " 'Service Fee',\n",
       " 'Shopping',\n",
       " 'State Tax',\n",
       " 'Transfer',\n",
       " 'Transfer for Cash Spending'}"
      ]
     },
     "execution_count": 32,
     "metadata": {},
     "output_type": "execute_result"
    }
   ],
   "source": [
    "# Test this: what categories aren't in allcats? \n",
    "expenses_user = list(itertools.chain(*llexpenses)) # use itertools module to iterate over flattened list\n",
    "expenses = df.Category.unique().tolist() # all categories\n",
    "set(expenses_user) ^ set(expenses) # now write a test for this"
   ]
  },
  {
   "cell_type": "code",
   "execution_count": 26,
   "metadata": {
    "collapsed": false
   },
   "outputs": [
    {
     "data": {
      "text/plain": [
       "[(0, ['Restaurants', 'Fast Food', 'Groceries', 'Food & Dining']),\n",
       " (1, ['Coffee Shops']),\n",
       " (2,\n",
       "  ['Public Transportation',\n",
       "   'Gas & Fuel',\n",
       "   'Rental Car & Taxi',\n",
       "   'Auto & Transport',\n",
       "   'Parking']),\n",
       " (3, ['Travel', 'Coach Bus', 'Air Travel', 'Hotel']),\n",
       " (4, ['Alcohol & Bars']),\n",
       " (5, ['Sports', 'Sporting Goods', 'Hobbies']),\n",
       " (6,\n",
       "  ['Electronics & Software',\n",
       "   'Music',\n",
       "   'Books',\n",
       "   'Clothing',\n",
       "   'Books & Supplies',\n",
       "   'Gift',\n",
       "   'Office Supplies',\n",
       "   'Mobile Phone']),\n",
       " (7, ['Event Tickets', 'Entertainment', 'Amusement', 'Arts']),\n",
       " (8,\n",
       "  ['ATM Fee',\n",
       "   'Finance Charge',\n",
       "   'Fees & Charges',\n",
       "   'Bank Fee',\n",
       "   'State Tax',\n",
       "   'Federal Tax',\n",
       "   'Service Fee']),\n",
       " (9,\n",
       "  ['Printing',\n",
       "   'Hair',\n",
       "   'Uncategorized',\n",
       "   'Business Services',\n",
       "   'Transfer for Cash Spending',\n",
       "   'Doctor',\n",
       "   'Eyecare',\n",
       "   'Misc Expenses']),\n",
       " (10, ['Home', 'Utilities', 'Mortgage & Rent', 'Rent', 'Home Improvement']),\n",
       " (11, ['Education', 'Tuition'])]"
      ]
     },
     "execution_count": 26,
     "metadata": {},
     "output_type": "execute_result"
    }
   ],
   "source": [
    "list(enumerate(llexpenses))"
   ]
  },
  {
   "cell_type": "code",
   "execution_count": 20,
   "metadata": {
    "collapsed": false
   },
   "outputs": [
    {
     "data": {
      "text/plain": [
       "pandas.core.series.Series"
      ]
     },
     "execution_count": 20,
     "metadata": {},
     "output_type": "execute_result"
    }
   ],
   "source": [
    "type(df.Category)"
   ]
  },
  {
   "cell_type": "code",
   "execution_count": 105,
   "metadata": {
    "collapsed": true
   },
   "outputs": [],
   "source": [
    "# Everything in All Cats\n",
    "df = df.loc[df.Category.isin(expenses)]\n",
    "df2 = df2.loc[df2.Category.isin(expenses)]"
   ]
  },
  {
   "cell_type": "code",
   "execution_count": 106,
   "metadata": {
    "collapsed": true
   },
   "outputs": [],
   "source": [
    "w1 = df['9/05/16':'9/11/16']\n",
    "w2 = df['9/12/16':'9/18/16']\n",
    "w3 = df['9/19/16':'9/25/16']"
   ]
  },
  {
   "cell_type": "code",
   "execution_count": 52,
   "metadata": {
    "collapsed": false
   },
   "outputs": [
    {
     "data": {
      "text/html": [
       "<div>\n",
       "<table border=\"1\" class=\"dataframe\">\n",
       "  <thead>\n",
       "    <tr style=\"text-align: right;\">\n",
       "      <th></th>\n",
       "      <th>Description</th>\n",
       "      <th>Original Description</th>\n",
       "      <th>Amount</th>\n",
       "      <th>Transaction Type</th>\n",
       "      <th>Category</th>\n",
       "      <th>Account Name</th>\n",
       "      <th>Labels</th>\n",
       "      <th>Notes</th>\n",
       "    </tr>\n",
       "    <tr>\n",
       "      <th>Date</th>\n",
       "      <th></th>\n",
       "      <th></th>\n",
       "      <th></th>\n",
       "      <th></th>\n",
       "      <th></th>\n",
       "      <th></th>\n",
       "      <th></th>\n",
       "      <th></th>\n",
       "    </tr>\n",
       "  </thead>\n",
       "  <tbody>\n",
       "    <tr>\n",
       "      <th>2016-09-10</th>\n",
       "      <td>Chane Music Ci</td>\n",
       "      <td>CHANE MUSIC AND CI800-992-7252, FL #0000</td>\n",
       "      <td>124.25</td>\n",
       "      <td>debit</td>\n",
       "      <td>Music</td>\n",
       "      <td>Investor Checking</td>\n",
       "      <td>NaN</td>\n",
       "      <td>NaN</td>\n",
       "    </tr>\n",
       "  </tbody>\n",
       "</table>\n",
       "</div>"
      ]
     },
     "metadata": {},
     "output_type": "execute_result"
    }
   ],
   "source": [
    "# Clean the data:\n",
    "# Inspect large expenses, drop some\n",
    "w1.loc[w1.Amount > 100].drop(w1.loc[w1.Amount > 100].index[[1]])\n",
    "df2.loc[df2.Amount>100]"
   ]
  },
  {
   "cell_type": "code",
   "execution_count": 107,
   "metadata": {
    "collapsed": true
   },
   "outputs": [],
   "source": [
    "sumry = pd.DataFrame(columns = ['Wk1','Wk2','Wk3'], index = names)"
   ]
  },
  {
   "cell_type": "code",
   "execution_count": 109,
   "metadata": {
    "collapsed": true
   },
   "outputs": [],
   "source": [
    "wk1_sumry = [w1.loc[w1.Category.isin(i)].Amount.sum() for i in llexpenses]"
   ]
  },
  {
   "cell_type": "code",
   "execution_count": 110,
   "metadata": {
    "collapsed": true
   },
   "outputs": [],
   "source": [
    "wk2_sumry = [w2.loc[w2.Category.isin(i)].Amount.sum() for i in llexpenses]"
   ]
  },
  {
   "cell_type": "code",
   "execution_count": 111,
   "metadata": {
    "collapsed": true
   },
   "outputs": [],
   "source": [
    "wk3_sumry = [w3.loc[w3.Category.isin(i)].Amount.sum() for i in llexpenses]"
   ]
  },
  {
   "cell_type": "code",
   "execution_count": 113,
   "metadata": {
    "collapsed": false
   },
   "outputs": [
    {
     "data": {
      "text/html": [
       "<div>\n",
       "<table border=\"1\" class=\"dataframe\">\n",
       "  <thead>\n",
       "    <tr style=\"text-align: right;\">\n",
       "      <th></th>\n",
       "      <th>Wk1</th>\n",
       "      <th>Wk2</th>\n",
       "      <th>Wk3</th>\n",
       "    </tr>\n",
       "  </thead>\n",
       "  <tbody>\n",
       "    <tr>\n",
       "      <th>food</th>\n",
       "      <td>26.59</td>\n",
       "      <td>30.23</td>\n",
       "      <td>26.40</td>\n",
       "    </tr>\n",
       "    <tr>\n",
       "      <th>coffee</th>\n",
       "      <td>10.05</td>\n",
       "      <td>21.75</td>\n",
       "      <td>18.15</td>\n",
       "    </tr>\n",
       "    <tr>\n",
       "      <th>transport</th>\n",
       "      <td>124.00</td>\n",
       "      <td>0.00</td>\n",
       "      <td>0.00</td>\n",
       "    </tr>\n",
       "    <tr>\n",
       "      <th>travel</th>\n",
       "      <td>0.00</td>\n",
       "      <td>3.45</td>\n",
       "      <td>0.00</td>\n",
       "    </tr>\n",
       "    <tr>\n",
       "      <th>drinks</th>\n",
       "      <td>0.00</td>\n",
       "      <td>6.89</td>\n",
       "      <td>0.00</td>\n",
       "    </tr>\n",
       "    <tr>\n",
       "      <th>sport</th>\n",
       "      <td>50.00</td>\n",
       "      <td>69.99</td>\n",
       "      <td>102.73</td>\n",
       "    </tr>\n",
       "    <tr>\n",
       "      <th>shopping</th>\n",
       "      <td>132.72</td>\n",
       "      <td>0.99</td>\n",
       "      <td>19.99</td>\n",
       "    </tr>\n",
       "    <tr>\n",
       "      <th>entertainment</th>\n",
       "      <td>243.00</td>\n",
       "      <td>3.25</td>\n",
       "      <td>0.00</td>\n",
       "    </tr>\n",
       "    <tr>\n",
       "      <th>fees</th>\n",
       "      <td>0.00</td>\n",
       "      <td>2.95</td>\n",
       "      <td>0.00</td>\n",
       "    </tr>\n",
       "    <tr>\n",
       "      <th>misc</th>\n",
       "      <td>0.00</td>\n",
       "      <td>0.00</td>\n",
       "      <td>0.00</td>\n",
       "    </tr>\n",
       "    <tr>\n",
       "      <th>home</th>\n",
       "      <td>0.00</td>\n",
       "      <td>0.00</td>\n",
       "      <td>0.00</td>\n",
       "    </tr>\n",
       "    <tr>\n",
       "      <th>edu</th>\n",
       "      <td>0.00</td>\n",
       "      <td>0.00</td>\n",
       "      <td>0.00</td>\n",
       "    </tr>\n",
       "  </tbody>\n",
       "</table>\n",
       "</div>"
      ]
     },
     "metadata": {},
     "output_type": "execute_result"
    }
   ],
   "source": [
    "# Create df\n",
    "sumry.Wk1 = wk1_sumry; sumry.Wk2 = wk2_sumry; sumry.Wk3 = wk3_sumry; sumry"
   ]
  },
  {
   "cell_type": "code",
   "execution_count": 139,
   "metadata": {
    "collapsed": true
   },
   "outputs": [],
   "source": [
    "# Add an averaged colummn\n",
    "sumry['Expected'] = sumry.mean(axis=1)"
   ]
  },
  {
   "cell_type": "code",
   "execution_count": 141,
   "metadata": {
    "collapsed": false
   },
   "outputs": [
    {
     "data": {
      "text/plain": [
       "<matplotlib.axes._subplots.AxesSubplot at 0x7fc9d4b19f50>"
      ]
     },
     "execution_count": 141,
     "metadata": {},
     "output_type": "execute_result"
    },
    {
     "data": {
      "image/png": "[encoded data removed]"
     },
     "metadata": {},
     "output_type": "display_data"
    }
   ],
   "source": [
    "# Plot\n",
    "sumry.plot.bar()"
   ]
  },
  {
   "cell_type": "code",
   "execution_count": 142,
   "metadata": {
    "collapsed": false
   },
   "outputs": [
    {
     "data": {
      "text/plain": [
       "<matplotlib.axes._subplots.AxesSubplot at 0x7fc9d4a4bd50>"
      ]
     },
     "execution_count": 142,
     "metadata": {},
     "output_type": "execute_result"
    },
    {
     "data": {
      "image/png": "[encoded data removed]"
     },
     "metadata": {},
     "output_type": "display_data"
    }
   ],
   "source": [
    "# Estimate of future spending\n",
    "sumry.loc['food'].plot()\n",
    "# average slope/delta\n",
    "# average overal"
   ]
  },
  {
   "cell_type": "code",
   "execution_count": null,
   "metadata": {
    "collapsed": true
   },
   "outputs": [],
   "source": []
  }
 ],
 "metadata": {
  "kernelspec": {
   "display_name": "Python 2",
   "language": "python",
   "name": "python2"
  },
  "language_info": {
   "codemirror_mode": {
    "name": "ipython",
    "version": 2
   },
   "file_extension": ".py",
   "mimetype": "text/x-python",
   "name": "python",
   "nbconvert_exporter": "python",
   "pygments_lexer": "ipython2",
   "version": "2.7.12"
  }
 },
 "nbformat": 4,
 "nbformat_minor": 0
}
