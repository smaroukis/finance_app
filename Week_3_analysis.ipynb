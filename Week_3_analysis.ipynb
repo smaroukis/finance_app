{
 "cells": [
  {
   "cell_type": "code",
   "execution_count": 75,
   "metadata": {
    "collapsed": true
   },
   "outputs": [],
   "source": [
    "import pandas as pd\n",
    "import os\n",
    "import datetime\n",
    "from config import *"
   ]
  },
  {
   "cell_type": "code",
   "execution_count": 6,
   "metadata": {
    "collapsed": false
   },
   "outputs": [],
   "source": [
    "%%bash\n",
    "rm /home/spencer/Downloads/transactions.csv /home/spencer/Downloads/transactions\\ \\(1\\).csv"
   ]
  },
  {
   "cell_type": "code",
   "execution_count": 53,
   "metadata": {
    "collapsed": false
   },
   "outputs": [],
   "source": [
    "df = pd.read_csv('/home/spencer/Downloads/transactions.csv', parse_dates=['Date'], index_col = 'Date')\n",
    "df2 = df.truncate(after = '09/02/2016')"
   ]
  },
  {
   "cell_type": "code",
   "execution_count": 67,
   "metadata": {
    "collapsed": false
   },
   "outputs": [],
   "source": [
    "# Defining Groups\n",
    "\n",
    "llexpenses = ['food','coffee','transport','travel','drinks','sport','shopping','entertainment','fees','misc']\n",
    "\n",
    "food = ['Restaurants','Fast Food','Groceries','Food & Dining']\n",
    "coffee = ['Coffee Shops']\n",
    "transport = ['Public Transportation','Gas & Fuel', 'Rental Car & Taxi','Auto & Transport','Parking']\n",
    "travel = ['Travel','Coach Bus','Air Travel','Hotel']\n",
    "drinks = ['Alcohol & Bars']\n",
    "sport = ['Sports','Sporting Goods','Hobbies']\n",
    "shopping = ['Electronics & Software','Music','Books','Clothing','Books & Supplies','Gift','Office Supplies','Mobile Phone'] # should it be a set?\n",
    "entertainment = ['Event Tickets','Entertainment','Amusement','Arts']\n",
    "fees = ['ATM Fee','Finance Charge','Fees & Charges','Bank Fee','State Tax','Federal Tax','Service Fee']\n",
    "misc = ['Printing','Hair','Uncategorized','Business Services','Transfer for Cash Spending','Doctor','Eyecare','Misc Expenses']\n",
    "home = ['Home','Utilities','Mortgage & Rent','Rent', 'Home Improvement']\n",
    "edu = ['Education','Tuition']\n",
    "\n",
    "allcats = food+coffee+transport+travel+drinks+sport + shopping+ entertainment+fees+misc+home+edu\n",
    "expenses = food+coffee+transport+travel+drinks+sport + shopping+ entertainment+fees+misc"
   ]
  },
  {
   "cell_type": "code",
   "execution_count": 55,
   "metadata": {
    "collapsed": false
   },
   "outputs": [],
   "source": [
    "# Everything in All Cats\n",
    "df = df.loc[df.Category.isin(expenses)]\n",
    "df2 = df2.loc[df2.Category.isin(expenses)]"
   ]
  },
  {
   "cell_type": "code",
   "execution_count": 49,
   "metadata": {
    "collapsed": false
   },
   "outputs": [],
   "source": [
    "w1 = df['9/05/16':'9/11/16']\n",
    "w2 = df['9/12/16':'9/18/16']\n",
    "w3 = df['9/19/16':'9/25/16']"
   ]
  },
  {
   "cell_type": "code",
   "execution_count": 56,
   "metadata": {
    "collapsed": true
   },
   "outputs": [
    {
     "data": {
      "text/html": [
       "<div>\n",
       "<table border=\"1\" class=\"dataframe\">\n",
       "  <thead>\n",
       "    <tr style=\"text-align: right;\">\n",
       "      <th></th>\n",
       "      <th>Description</th>\n",
       "      <th>Original Description</th>\n",
       "      <th>Amount</th>\n",
       "      <th>Transaction Type</th>\n",
       "      <th>Category</th>\n",
       "      <th>Account Name</th>\n",
       "      <th>Labels</th>\n",
       "      <th>Notes</th>\n",
       "    </tr>\n",
       "    <tr>\n",
       "      <th>Date</th>\n",
       "      <th></th>\n",
       "      <th></th>\n",
       "      <th></th>\n",
       "      <th></th>\n",
       "      <th></th>\n",
       "      <th></th>\n",
       "      <th></th>\n",
       "      <th></th>\n",
       "    </tr>\n",
       "  </thead>\n",
       "  <tbody>\n",
       "    <tr>\n",
       "      <th>2016-09-10</th>\n",
       "      <td>Chane Music Ci</td>\n",
       "      <td>CHANE MUSIC AND CI800-992-7252, FL #0000</td>\n",
       "      <td>124.25</td>\n",
       "      <td>debit</td>\n",
       "      <td>Music</td>\n",
       "      <td>Investor Checking</td>\n",
       "      <td>NaN</td>\n",
       "      <td>NaN</td>\n",
       "    </tr>\n",
       "    <tr>\n",
       "      <th>2016-09-08</th>\n",
       "      <td>Planet Rock</td>\n",
       "      <td>PLANET ROCK ANN ARBOR, MI #0000001</td>\n",
       "      <td>243.00</td>\n",
       "      <td>debit</td>\n",
       "      <td>Amusement</td>\n",
       "      <td>Investor Checking</td>\n",
       "      <td>NaN</td>\n",
       "      <td>NaN</td>\n",
       "    </tr>\n",
       "    <tr>\n",
       "      <th>2016-09-02</th>\n",
       "      <td>Meijer</td>\n",
       "      <td>MEIJER INC 064 3145 SAL ANN ARBOR</td>\n",
       "      <td>162.16</td>\n",
       "      <td>debit</td>\n",
       "      <td>Groceries</td>\n",
       "      <td>Investor Checking</td>\n",
       "      <td>NaN</td>\n",
       "      <td>NaN</td>\n",
       "    </tr>\n",
       "  </tbody>\n",
       "</table>\n",
       "</div>"
      ],
      "text/plain": [
       "               Description                      Original Description  Amount  \\\n",
       "Date                                                                           \n",
       "2016-09-10  Chane Music Ci  CHANE MUSIC AND CI800-992-7252, FL #0000  124.25   \n",
       "2016-09-08     Planet Rock        PLANET ROCK ANN ARBOR, MI #0000001  243.00   \n",
       "2016-09-02          Meijer         MEIJER INC 064 3145 SAL ANN ARBOR  162.16   \n",
       "\n",
       "           Transaction Type   Category       Account Name Labels  Notes  \n",
       "Date                                                                     \n",
       "2016-09-10            debit      Music  Investor Checking    NaN    NaN  \n",
       "2016-09-08            debit  Amusement  Investor Checking    NaN    NaN  \n",
       "2016-09-02            debit  Groceries  Investor Checking    NaN    NaN  "
      ]
     },
     "execution_count": 56,
     "metadata": {},
     "output_type": "execute_result"
    }
   ],
   "source": []
  },
  {
   "cell_type": "code",
   "execution_count": 52,
   "metadata": {
    "collapsed": true
   },
   "outputs": [
    {
     "data": {
      "text/html": [
       "<div>\n",
       "<table border=\"1\" class=\"dataframe\">\n",
       "  <thead>\n",
       "    <tr style=\"text-align: right;\">\n",
       "      <th></th>\n",
       "      <th>Description</th>\n",
       "      <th>Original Description</th>\n",
       "      <th>Amount</th>\n",
       "      <th>Transaction Type</th>\n",
       "      <th>Category</th>\n",
       "      <th>Account Name</th>\n",
       "      <th>Labels</th>\n",
       "      <th>Notes</th>\n",
       "    </tr>\n",
       "    <tr>\n",
       "      <th>Date</th>\n",
       "      <th></th>\n",
       "      <th></th>\n",
       "      <th></th>\n",
       "      <th></th>\n",
       "      <th></th>\n",
       "      <th></th>\n",
       "      <th></th>\n",
       "      <th></th>\n",
       "    </tr>\n",
       "  </thead>\n",
       "  <tbody>\n",
       "    <tr>\n",
       "      <th>2016-09-10</th>\n",
       "      <td>Chane Music Ci</td>\n",
       "      <td>CHANE MUSIC AND CI800-992-7252, FL #0000</td>\n",
       "      <td>124.25</td>\n",
       "      <td>debit</td>\n",
       "      <td>Music</td>\n",
       "      <td>Investor Checking</td>\n",
       "      <td>NaN</td>\n",
       "      <td>NaN</td>\n",
       "    </tr>\n",
       "  </tbody>\n",
       "</table>\n",
       "</div>"
      ],
      "text/plain": [
       "               Description                      Original Description  Amount  \\\n",
       "Date                                                                           \n",
       "2016-09-10  Chane Music Ci  CHANE MUSIC AND CI800-992-7252, FL #0000  124.25   \n",
       "\n",
       "           Transaction Type Category       Account Name Labels  Notes  \n",
       "Date                                                                   \n",
       "2016-09-10            debit    Music  Investor Checking    NaN    NaN  "
      ]
     },
     "execution_count": 52,
     "metadata": {},
     "output_type": "execute_result"
    }
   ],
   "source": [
    "# Clean the data:\n",
    "# Inspect large expenses, drop some\n",
    "w1.loc[w1.Amount > 100].drop(w1.loc[w1.Amount > 100].index[[1]])\n",
    "df2.loc[df2.Amount>100]"
   ]
  },
  {
   "cell_type": "code",
   "execution_count": 77,
   "metadata": {
    "collapsed": true
   },
   "outputs": [],
   "source": [
    "sumry = pd.DataFrame(columns = ['Wk1','Wk2','Wk3'], index = llexpenses)"
   ]
  },
  {
   "cell_type": "code",
   "execution_count": 78,
   "metadata": {
    "collapsed": false
   },
   "outputs": [
    {
     "data": {
      "text/html": [
       "<div>\n",
       "<table border=\"1\" class=\"dataframe\">\n",
       "  <thead>\n",
       "    <tr style=\"text-align: right;\">\n",
       "      <th></th>\n",
       "      <th>Wk1</th>\n",
       "      <th>Wk2</th>\n",
       "      <th>Wk3</th>\n",
       "    </tr>\n",
       "  </thead>\n",
       "  <tbody>\n",
       "    <tr>\n",
       "      <th>food</th>\n",
       "      <td>NaN</td>\n",
       "      <td>NaN</td>\n",
       "      <td>NaN</td>\n",
       "    </tr>\n",
       "    <tr>\n",
       "      <th>coffee</th>\n",
       "      <td>NaN</td>\n",
       "      <td>NaN</td>\n",
       "      <td>NaN</td>\n",
       "    </tr>\n",
       "    <tr>\n",
       "      <th>transport</th>\n",
       "      <td>NaN</td>\n",
       "      <td>NaN</td>\n",
       "      <td>NaN</td>\n",
       "    </tr>\n",
       "    <tr>\n",
       "      <th>travel</th>\n",
       "      <td>NaN</td>\n",
       "      <td>NaN</td>\n",
       "      <td>NaN</td>\n",
       "    </tr>\n",
       "    <tr>\n",
       "      <th>drinks</th>\n",
       "      <td>NaN</td>\n",
       "      <td>NaN</td>\n",
       "      <td>NaN</td>\n",
       "    </tr>\n",
       "    <tr>\n",
       "      <th>sport</th>\n",
       "      <td>NaN</td>\n",
       "      <td>NaN</td>\n",
       "      <td>NaN</td>\n",
       "    </tr>\n",
       "    <tr>\n",
       "      <th>shopping</th>\n",
       "      <td>NaN</td>\n",
       "      <td>NaN</td>\n",
       "      <td>NaN</td>\n",
       "    </tr>\n",
       "    <tr>\n",
       "      <th>entertainment</th>\n",
       "      <td>NaN</td>\n",
       "      <td>NaN</td>\n",
       "      <td>NaN</td>\n",
       "    </tr>\n",
       "    <tr>\n",
       "      <th>fees</th>\n",
       "      <td>NaN</td>\n",
       "      <td>NaN</td>\n",
       "      <td>NaN</td>\n",
       "    </tr>\n",
       "    <tr>\n",
       "      <th>misc</th>\n",
       "      <td>NaN</td>\n",
       "      <td>NaN</td>\n",
       "      <td>NaN</td>\n",
       "    </tr>\n",
       "  </tbody>\n",
       "</table>\n",
       "</div>"
      ],
      "text/plain": [
       "               Wk1  Wk2  Wk3\n",
       "food           NaN  NaN  NaN\n",
       "coffee         NaN  NaN  NaN\n",
       "transport      NaN  NaN  NaN\n",
       "travel         NaN  NaN  NaN\n",
       "drinks         NaN  NaN  NaN\n",
       "sport          NaN  NaN  NaN\n",
       "shopping       NaN  NaN  NaN\n",
       "entertainment  NaN  NaN  NaN\n",
       "fees           NaN  NaN  NaN\n",
       "misc           NaN  NaN  NaN"
      ]
     },
     "execution_count": 78,
     "metadata": {},
     "output_type": "execute_result"
    }
   ],
   "source": [
    "sumry"
   ]
  },
  {
   "cell_type": "code",
   "execution_count": 71,
   "metadata": {
    "collapsed": false
   },
   "outputs": [],
   "source": [
    "wk1_sumry = [w1.loc[w1.Category.isin([i])].Amount.sum() for i in llexpenses]"
   ]
  },
  {
   "cell_type": "code",
   "execution_count": 72,
   "metadata": {
    "collapsed": false
   },
   "outputs": [],
   "source": [
    "wk2_sumry = [w2.loc[w2.Category.isin([i])].Amount.sum() for i in llexpenses]"
   ]
  },
  {
   "cell_type": "code",
   "execution_count": 73,
   "metadata": {
    "collapsed": false
   },
   "outputs": [],
   "source": [
    "wk3_sumry = [w3.loc[w3.Category.isin([i])].Amount.sum() for i in llexpenses]"
   ]
  },
  {
   "cell_type": "code",
   "execution_count": 83,
   "metadata": {
    "collapsed": false
   },
   "outputs": [
    {
     "ename": "AttributeError",
     "evalue": "'list' object has no attribute 'T'",
     "output_type": "error",
     "traceback": [
      "\u001b[1;31m---------------------------------------------------------------------------\u001b[0m",
      "\u001b[1;31mAttributeError\u001b[0m                            Traceback (most recent call last)",
      "\u001b[1;32m<ipython-input-83-6f06fcc10784>\u001b[0m in \u001b[0;36m<module>\u001b[1;34m()\u001b[0m\n\u001b[1;32m----> 1\u001b[1;33m \u001b[0msumry\u001b[0m \u001b[1;33m=\u001b[0m \u001b[0mpd\u001b[0m\u001b[1;33m.\u001b[0m\u001b[0mDataFrame\u001b[0m\u001b[1;33m(\u001b[0m\u001b[0mdata\u001b[0m \u001b[1;33m=\u001b[0m \u001b[1;33m[\u001b[0m\u001b[0mwk1_sumry\u001b[0m\u001b[1;33m,\u001b[0m \u001b[0mwk2_sumry\u001b[0m\u001b[1;33m,\u001b[0m \u001b[0mwk3_sumry\u001b[0m\u001b[1;33m]\u001b[0m\u001b[1;33m.\u001b[0m\u001b[0mT\u001b[0m\u001b[1;33m,\u001b[0m \u001b[0mcolumns\u001b[0m \u001b[1;33m=\u001b[0m \u001b[1;33m[\u001b[0m\u001b[1;34m'Wk1'\u001b[0m\u001b[1;33m,\u001b[0m\u001b[1;34m'Wk2'\u001b[0m\u001b[1;33m,\u001b[0m\u001b[1;34m'Wk3'\u001b[0m\u001b[1;33m]\u001b[0m\u001b[1;33m,\u001b[0m \u001b[0mindex\u001b[0m \u001b[1;33m=\u001b[0m \u001b[0mllexpenses\u001b[0m\u001b[1;33m)\u001b[0m\u001b[1;33m\u001b[0m\u001b[0m\n\u001b[0m",
      "\u001b[1;31mAttributeError\u001b[0m: 'list' object has no attribute 'T'"
     ]
    }
   ],
   "source": [
    "sumry = pd.DataFrame(data = [wk1_sumry, wk2_sumry, wk3_sumry].T, columns = ['Wk1','Wk2','Wk3'], index = llexpenses)"
   ]
  },
  {
   "cell_type": "code",
   "execution_count": null,
   "metadata": {
    "collapsed": true
   },
   "outputs": [],
   "source": []
  }
 ],
 "metadata": {
  "kernelspec": {
   "display_name": "Python [Root]",
   "language": "python",
   "name": "Python [Root]"
  },
  "language_info": {
   "codemirror_mode": {
    "name": "ipython",
    "version": 2
   },
   "file_extension": ".py",
   "mimetype": "text/x-python",
   "name": "python",
   "nbconvert_exporter": "python",
   "pygments_lexer": "ipython2",
   "version": "2.7.12"
  }
 },
 "nbformat": 4,
 "nbformat_minor": 0
}
